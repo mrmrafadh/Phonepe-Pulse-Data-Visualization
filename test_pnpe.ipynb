{
 "cells": [
  {
   "cell_type": "markdown",
   "metadata": {},
   "source": [
    "required python packages"
   ]
  },
  {
   "cell_type": "code",
   "execution_count": 2,
   "metadata": {},
   "outputs": [],
   "source": [
    "import pandas as pd\n",
    "import mysql.connector as sql\n",
    "import streamlit as st\n",
    "import plotly.express as px\n",
    "import os\n",
    "import json\n",
    "from streamlit_option_menu import option_menu\n",
    "from PIL import Image\n",
    "import git"
   ]
  },
  {
   "cell_type": "markdown",
   "metadata": {},
   "source": [
    "Cloning github"
   ]
  },
  {
   "cell_type": "code",
   "execution_count": 94,
   "metadata": {},
   "outputs": [],
   "source": [
    "\n",
    "#from_url = 'https://github.com/IamJafar/Phonepe_Pulse_Data_Visualization/blob/7d7025336139c57b58b5148c4aabdfc69e1997ff/Data/Statenames.csv'\n",
    "#to_url = 'C:/Users/User/Desktop/python/phonepe/csv'\n",
    "#git.Repo.clone_from(from_url,to_url)"
   ]
  },
  {
   "cell_type": "markdown",
   "metadata": {},
   "source": [
    "Find out the null value percentage in a DataFrame (Data Cleaning)"
   ]
  },
  {
   "cell_type": "code",
   "execution_count": 3,
   "metadata": {},
   "outputs": [],
   "source": [
    "def data_cleaning(data):\n",
    "    total_row = data.shape[0]\n",
    "    total_col = data.shape[1]\n",
    "    null_col = (data.isnull().sum(axis=0)/total_col)\n",
    "    null_row = (data.isnull().sum(axis=1)/total_row)\n",
    "    null_col = pd.Series(null_col)\n",
    "    null_row = pd.Series(null_row)\n",
    "    high_missing_cols = null_col[null_col >= 1]\n",
    "    high_missing_row = null_row[null_row >= 1]\n",
    "    if len(high_missing_cols) > 0:\n",
    "        return \"ATTENTION, There are missing values in following column(s): \" + \", \".join(high_missing_cols.index)\n",
    "        return data\n",
    "    elif len(high_missing_row) > 0:\n",
    "        return \"ATTENTION, There are missing values in following row(s): \" + \", \".join(high_missing_row.index)\n",
    "        return data\n",
    "    else:\n",
    "        return \"No Missing Values Found\",data"
   ]
  },
  {
   "cell_type": "markdown",
   "metadata": {},
   "source": [
    "Creating DataGrame for Aggregation Transactions"
   ]
  },
  {
   "cell_type": "code",
   "execution_count": 3,
   "metadata": {},
   "outputs": [
    {
     "data": {
      "text/plain": [
       "('No Missing Values Found',\n",
       "               Transaction_type  Transaction_count  Transaction_amount  \\\n",
       " 0     Recharge & bill payments               4200        1.845307e+06   \n",
       " 1        Peer-to-peer payments               1871        1.213866e+07   \n",
       " 2            Merchant payments                298        4.525072e+05   \n",
       " 3           Financial Services                 33        1.060142e+04   \n",
       " 4                       Others                256        1.846899e+05   \n",
       " ...                        ...                ...                 ...   \n",
       " 4309         Merchant payments          354067997        2.390738e+11   \n",
       " 4310     Peer-to-peer payments          317959249        9.641385e+11   \n",
       " 4311  Recharge & bill payments           64920775        4.531943e+10   \n",
       " 4312        Financial Services             480740        4.590073e+08   \n",
       " 4313                    Others             524477        4.041567e+08   \n",
       " \n",
       "                           State  Year  Quarter  \n",
       " 0     andaman-&-nicobar-islands  2018        1  \n",
       " 1     andaman-&-nicobar-islands  2018        1  \n",
       " 2     andaman-&-nicobar-islands  2018        1  \n",
       " 3     andaman-&-nicobar-islands  2018        1  \n",
       " 4     andaman-&-nicobar-islands  2018        1  \n",
       " ...                         ...   ...      ...  \n",
       " 4309                west-bengal  2023        4  \n",
       " 4310                west-bengal  2023        4  \n",
       " 4311                west-bengal  2023        4  \n",
       " 4312                west-bengal  2023        4  \n",
       " 4313                west-bengal  2023        4  \n",
       " \n",
       " [4314 rows x 6 columns])"
      ]
     },
     "execution_count": 3,
     "metadata": {},
     "output_type": "execute_result"
    }
   ],
   "source": [
    "def aggr_trans_dataframe():\n",
    "    path = 'C:/Users/User/Desktop/python/phonepe/pulse_data/data/aggregated/transaction/country/india/state/'\n",
    "    list_of_agg_trans = []\n",
    "    for current_state in os.listdir(path):\n",
    "        current_path = path + current_state + \"/\"\n",
    "\n",
    "        for current_year in os.listdir(current_path):\n",
    "            current_path1 = current_path + current_year + \"/\"\n",
    "        \n",
    "            for file in os.listdir(current_path1):\n",
    "                current_file = current_path1 + file\n",
    "                file_data = open(current_file, \"r\")\n",
    "                jason_data = json.load(file_data)\n",
    "\n",
    "                for jd in jason_data['data']['transactionData']:\n",
    "                    dict_agg_trans = dict(\n",
    "                        Transaction_type = jd['name'],\n",
    "                        Transaction_count = jd['paymentInstruments'][0]['count'],\n",
    "                        Transaction_amount = jd['paymentInstruments'][0]['amount'],\n",
    "                        State = current_state,\n",
    "                        Year = current_year,\n",
    "                        Quarter = int(file.strip('.json'))\n",
    "                    )\n",
    "\n",
    "                    list_of_agg_trans.append(dict_agg_trans)\n",
    "    df_agg_trans = pd.DataFrame.from_dict(list_of_agg_trans,orient='columns')\n",
    "    return data_cleaning(df_agg_trans)\n",
    "\n",
    "aggr_trans_dataframe()"
   ]
  },
  {
   "cell_type": "markdown",
   "metadata": {},
   "source": [
    "Creating DataFrame for Aggregation Users"
   ]
  },
  {
   "cell_type": "code",
   "execution_count": 4,
   "metadata": {},
   "outputs": [
    {
     "data": {
      "text/plain": [
       "('No Missing Values Found',\n",
       "        Brands  User_Registered  Percentage                      State  Year  \\\n",
       " 0      Xiaomi             1665    0.247033  andaman-&-nicobar-islands  2018   \n",
       " 1     Samsung             1445    0.214392  andaman-&-nicobar-islands  2018   \n",
       " 2        Vivo              982    0.145697  andaman-&-nicobar-islands  2018   \n",
       " 3        Oppo              501    0.074332  andaman-&-nicobar-islands  2018   \n",
       " 4     OnePlus              332    0.049258  andaman-&-nicobar-islands  2018   \n",
       " ...       ...              ...         ...                        ...   ...   \n",
       " 6727   Lenovo           330017    0.015056                west-bengal  2022   \n",
       " 6728  Infinix           284678    0.012987                west-bengal  2022   \n",
       " 6729     Asus           280347    0.012790                west-bengal  2022   \n",
       " 6730    Apple           277752    0.012671                west-bengal  2022   \n",
       " 6731   Others          2196334    0.100199                west-bengal  2022   \n",
       " \n",
       "       Quarter  \n",
       " 0           1  \n",
       " 1           1  \n",
       " 2           1  \n",
       " 3           1  \n",
       " 4           1  \n",
       " ...       ...  \n",
       " 6727        1  \n",
       " 6728        1  \n",
       " 6729        1  \n",
       " 6730        1  \n",
       " 6731        1  \n",
       " \n",
       " [6732 rows x 6 columns])"
      ]
     },
     "execution_count": 4,
     "metadata": {},
     "output_type": "execute_result"
    }
   ],
   "source": [
    "def aggr_user_dataframe():\n",
    "    path = 'C:/Users/User/Desktop/python/phonepe/pulse_data/data/aggregated/user/country/india/state/'\n",
    "    list_of_agg_user = []\n",
    "    for current_state in os.listdir(path):\n",
    "        current_path = path + current_state + \"/\"\n",
    "\n",
    "        for current_year in os.listdir(current_path):\n",
    "            current_path1 = current_path + current_year + \"/\"\n",
    "        \n",
    "            for file in os.listdir(current_path1):\n",
    "                current_file = current_path1 + file\n",
    "                file_data = open(current_file, \"r\")\n",
    "                jason_data = json.load(file_data)\n",
    "\n",
    "                try:\n",
    "                    for jd in jason_data['data']['usersByDevice']:\n",
    "                        dict_agg_user = dict(\n",
    "                            Brands = jd['brand'],\n",
    "                            User_Registered = jd['count'],\n",
    "                            Percentage = jd['percentage'],\n",
    "                            State = current_state,\n",
    "                            Year = current_year,\n",
    "                            Quarter = int(file.strip('.json'))\n",
    "                        )\n",
    "\n",
    "                        list_of_agg_user.append(dict_agg_user)\n",
    "                except:\n",
    "                    pass\n",
    "    df_agg_user = pd.DataFrame.from_dict(list_of_agg_user,orient='columns')\n",
    "    return data_cleaning(df_agg_user)\n",
    "\n",
    "\n",
    "aggr_user_dataframe()"
   ]
  },
  {
   "cell_type": "markdown",
   "metadata": {},
   "source": [
    "Creating DataGrame for Map Transaction"
   ]
  },
  {
   "cell_type": "code",
   "execution_count": 4,
   "metadata": {},
   "outputs": [
    {
     "data": {
      "text/html": [
       "<div>\n",
       "<style scoped>\n",
       "    .dataframe tbody tr th:only-of-type {\n",
       "        vertical-align: middle;\n",
       "    }\n",
       "\n",
       "    .dataframe tbody tr th {\n",
       "        vertical-align: top;\n",
       "    }\n",
       "\n",
       "    .dataframe thead th {\n",
       "        text-align: right;\n",
       "    }\n",
       "</style>\n",
       "<table border=\"1\" class=\"dataframe\">\n",
       "  <thead>\n",
       "    <tr style=\"text-align: right;\">\n",
       "      <th></th>\n",
       "      <th>District</th>\n",
       "      <th>Count_transaction</th>\n",
       "      <th>Amount</th>\n",
       "      <th>State</th>\n",
       "      <th>Year</th>\n",
       "      <th>Quarter</th>\n",
       "    </tr>\n",
       "  </thead>\n",
       "  <tbody>\n",
       "    <tr>\n",
       "      <th>0</th>\n",
       "      <td>north and middle andaman district</td>\n",
       "      <td>442</td>\n",
       "      <td>9.316631e+05</td>\n",
       "      <td>andaman-&amp;-nicobar-islands</td>\n",
       "      <td>2018</td>\n",
       "      <td>1</td>\n",
       "    </tr>\n",
       "    <tr>\n",
       "      <th>1</th>\n",
       "      <td>south andaman district</td>\n",
       "      <td>5688</td>\n",
       "      <td>1.256025e+07</td>\n",
       "      <td>andaman-&amp;-nicobar-islands</td>\n",
       "      <td>2018</td>\n",
       "      <td>1</td>\n",
       "    </tr>\n",
       "    <tr>\n",
       "      <th>2</th>\n",
       "      <td>nicobars district</td>\n",
       "      <td>528</td>\n",
       "      <td>1.139849e+06</td>\n",
       "      <td>andaman-&amp;-nicobar-islands</td>\n",
       "      <td>2018</td>\n",
       "      <td>1</td>\n",
       "    </tr>\n",
       "    <tr>\n",
       "      <th>3</th>\n",
       "      <td>north and middle andaman district</td>\n",
       "      <td>825</td>\n",
       "      <td>1.317863e+06</td>\n",
       "      <td>andaman-&amp;-nicobar-islands</td>\n",
       "      <td>2018</td>\n",
       "      <td>2</td>\n",
       "    </tr>\n",
       "    <tr>\n",
       "      <th>4</th>\n",
       "      <td>south andaman district</td>\n",
       "      <td>9395</td>\n",
       "      <td>2.394824e+07</td>\n",
       "      <td>andaman-&amp;-nicobar-islands</td>\n",
       "      <td>2018</td>\n",
       "      <td>2</td>\n",
       "    </tr>\n",
       "    <tr>\n",
       "      <th>...</th>\n",
       "      <td>...</td>\n",
       "      <td>...</td>\n",
       "      <td>...</td>\n",
       "      <td>...</td>\n",
       "      <td>...</td>\n",
       "      <td>...</td>\n",
       "    </tr>\n",
       "    <tr>\n",
       "      <th>17559</th>\n",
       "      <td>nadia district</td>\n",
       "      <td>36242432</td>\n",
       "      <td>6.879568e+10</td>\n",
       "      <td>west-bengal</td>\n",
       "      <td>2023</td>\n",
       "      <td>4</td>\n",
       "    </tr>\n",
       "    <tr>\n",
       "      <th>17560</th>\n",
       "      <td>birbhum district</td>\n",
       "      <td>20708496</td>\n",
       "      <td>3.690499e+10</td>\n",
       "      <td>west-bengal</td>\n",
       "      <td>2023</td>\n",
       "      <td>4</td>\n",
       "    </tr>\n",
       "    <tr>\n",
       "      <th>17561</th>\n",
       "      <td>purba medinipur district</td>\n",
       "      <td>40572042</td>\n",
       "      <td>7.981990e+10</td>\n",
       "      <td>west-bengal</td>\n",
       "      <td>2023</td>\n",
       "      <td>4</td>\n",
       "    </tr>\n",
       "    <tr>\n",
       "      <th>17562</th>\n",
       "      <td>maldah district</td>\n",
       "      <td>34654950</td>\n",
       "      <td>6.416729e+10</td>\n",
       "      <td>west-bengal</td>\n",
       "      <td>2023</td>\n",
       "      <td>4</td>\n",
       "    </tr>\n",
       "    <tr>\n",
       "      <th>17563</th>\n",
       "      <td>darjiling district</td>\n",
       "      <td>16807885</td>\n",
       "      <td>2.793986e+10</td>\n",
       "      <td>west-bengal</td>\n",
       "      <td>2023</td>\n",
       "      <td>4</td>\n",
       "    </tr>\n",
       "  </tbody>\n",
       "</table>\n",
       "<p>17564 rows × 6 columns</p>\n",
       "</div>"
      ],
      "text/plain": [
       "                                District  Count_transaction        Amount  \\\n",
       "0      north and middle andaman district                442  9.316631e+05   \n",
       "1                 south andaman district               5688  1.256025e+07   \n",
       "2                      nicobars district                528  1.139849e+06   \n",
       "3      north and middle andaman district                825  1.317863e+06   \n",
       "4                 south andaman district               9395  2.394824e+07   \n",
       "...                                  ...                ...           ...   \n",
       "17559                     nadia district           36242432  6.879568e+10   \n",
       "17560                   birbhum district           20708496  3.690499e+10   \n",
       "17561           purba medinipur district           40572042  7.981990e+10   \n",
       "17562                    maldah district           34654950  6.416729e+10   \n",
       "17563                 darjiling district           16807885  2.793986e+10   \n",
       "\n",
       "                           State  Year  Quarter  \n",
       "0      andaman-&-nicobar-islands  2018        1  \n",
       "1      andaman-&-nicobar-islands  2018        1  \n",
       "2      andaman-&-nicobar-islands  2018        1  \n",
       "3      andaman-&-nicobar-islands  2018        2  \n",
       "4      andaman-&-nicobar-islands  2018        2  \n",
       "...                          ...   ...      ...  \n",
       "17559                west-bengal  2023        4  \n",
       "17560                west-bengal  2023        4  \n",
       "17561                west-bengal  2023        4  \n",
       "17562                west-bengal  2023        4  \n",
       "17563                west-bengal  2023        4  \n",
       "\n",
       "[17564 rows x 6 columns]"
      ]
     },
     "execution_count": 4,
     "metadata": {},
     "output_type": "execute_result"
    }
   ],
   "source": [
    "def map_trans_dataframe():\n",
    "    path = 'C:/Users/User/Desktop/python/phonepe/pulse_data/data/map/transaction/hover/country/india/state/'\n",
    "    list_of_map_trans = []\n",
    "    for current_state in os.listdir(path):\n",
    "        current_path = path + current_state + \"/\"\n",
    "\n",
    "        for current_year in os.listdir(current_path):\n",
    "            current_path1 = current_path + current_year + \"/\"\n",
    "        \n",
    "            for file in os.listdir(current_path1):\n",
    "                current_file = current_path1 + file\n",
    "                file_data = open(current_file, \"r\")\n",
    "                jason_data = json.load(file_data)\n",
    "\n",
    "                try:\n",
    "                    for jd in jason_data['data'][\"hoverDataList\"]:\n",
    "                        dict_map_trans = dict(\n",
    "                            District = jd['name'],\n",
    "                            Count_transaction = jd['metric'][0]['count'],\n",
    "                            Amount = jd['metric'][0]['amount'],\n",
    "                            State = current_state,\n",
    "                            Year = current_year,\n",
    "                            Quarter = int(file.strip('.json'))\n",
    "                        )\n",
    "\n",
    "                        list_of_map_trans.append(dict_map_trans)\n",
    "                except:\n",
    "                    pass\n",
    "    df_map_trans = pd.DataFrame.from_dict(list_of_map_trans,orient='columns')\n",
    "    return data_cleaning(df_map_trans)\n",
    "\n",
    "\n",
    "map_trans_dataframe()[1]"
   ]
  },
  {
   "cell_type": "markdown",
   "metadata": {},
   "source": [
    "Creating DataGrame for Map User"
   ]
  },
  {
   "cell_type": "code",
   "execution_count": 6,
   "metadata": {},
   "outputs": [
    {
     "data": {
      "text/plain": [
       "('No Missing Values Found',\n",
       "                                 District  RegisteredUsers  AppOpens  \\\n",
       " 0      north and middle andaman district              632         0   \n",
       " 1                 south andaman district             5846         0   \n",
       " 2                      nicobars district              262         0   \n",
       " 3      north and middle andaman district              911         0   \n",
       " 4                 south andaman district             8143         0   \n",
       " ...                                  ...              ...       ...   \n",
       " 17563                     nadia district          1603527  67224546   \n",
       " 17564                   birbhum district          1013025  52281841   \n",
       " 17565           purba medinipur district          1589203  69991821   \n",
       " 17566                    maldah district          1134600  88292475   \n",
       " 17567                 darjiling district           660231  39079247   \n",
       " \n",
       "                            State  Year  Quarter  \n",
       " 0      andaman-&-nicobar-islands  2018        1  \n",
       " 1      andaman-&-nicobar-islands  2018        1  \n",
       " 2      andaman-&-nicobar-islands  2018        1  \n",
       " 3      andaman-&-nicobar-islands  2018        2  \n",
       " 4      andaman-&-nicobar-islands  2018        2  \n",
       " ...                          ...   ...      ...  \n",
       " 17563                west-bengal  2023        4  \n",
       " 17564                west-bengal  2023        4  \n",
       " 17565                west-bengal  2023        4  \n",
       " 17566                west-bengal  2023        4  \n",
       " 17567                west-bengal  2023        4  \n",
       " \n",
       " [17568 rows x 6 columns])"
      ]
     },
     "execution_count": 6,
     "metadata": {},
     "output_type": "execute_result"
    }
   ],
   "source": [
    "def map_user_dataframe():\n",
    "    path = 'C:/Users/User/Desktop/python/phonepe/pulse_data/data/map/user/hover/country/india/state/'\n",
    "    list_of_map_user = []\n",
    "    for current_state in os.listdir(path):\n",
    "        current_path = path + current_state + \"/\"\n",
    "\n",
    "        for current_year in os.listdir(current_path):\n",
    "            current_path1 = current_path + current_year + \"/\"\n",
    "        \n",
    "            for file in os.listdir(current_path1):\n",
    "                current_file = current_path1 + file\n",
    "                file_data = open(current_file, \"r\")\n",
    "                jason_data = json.load(file_data)\n",
    "\n",
    "                for jd in jason_data['data'][\"hoverData\"].items():\n",
    "                    dict_map_user = dict(\n",
    "                        District = jd[0],\n",
    "                        RegisteredUsers = jd[1]['registeredUsers'],\n",
    "                        AppOpens = jd[1]['appOpens'],\n",
    "                        State = current_state,\n",
    "                        Year = current_year,\n",
    "                        Quarter = int(file.strip('.json'))\n",
    "                    )\n",
    "\n",
    "                    list_of_map_user.append(dict_map_user)\n",
    "\n",
    "    df_map_user = pd.DataFrame.from_dict(list_of_map_user,orient='columns')\n",
    "    return data_cleaning(df_map_user)\n",
    "\n",
    "\n",
    "map_user_dataframe()"
   ]
  },
  {
   "cell_type": "markdown",
   "metadata": {},
   "source": [
    "Creating DataGrame for Top PinCode"
   ]
  },
  {
   "cell_type": "code",
   "execution_count": 7,
   "metadata": {},
   "outputs": [
    {
     "data": {
      "text/plain": [
       "('No Missing Values Found',\n",
       "      Pincode  Transaction_count  Transaction_amount  \\\n",
       " 0     744101               1622        2.769298e+06   \n",
       " 1     744103               1223        2.238042e+06   \n",
       " 2     744102                969        3.519060e+06   \n",
       " 3     744105                685        1.298561e+06   \n",
       " 4     744104                340        1.039715e+06   \n",
       " ...      ...                ...                 ...   \n",
       " 8562  721301            4133775        5.718222e+09   \n",
       " 8563  700001            3983241        8.039689e+09   \n",
       " 8564  732125            3950411        6.557345e+09   \n",
       " 8565  700039            3742452        5.608622e+09   \n",
       " 8566  700014            3652710        6.184795e+09   \n",
       " \n",
       "                           State  Year  Quarter  \n",
       " 0     andaman-&-nicobar-islands  2018        1  \n",
       " 1     andaman-&-nicobar-islands  2018        1  \n",
       " 2     andaman-&-nicobar-islands  2018        1  \n",
       " 3     andaman-&-nicobar-islands  2018        1  \n",
       " 4     andaman-&-nicobar-islands  2018        1  \n",
       " ...                         ...   ...      ...  \n",
       " 8562                west-bengal  2023        4  \n",
       " 8563                west-bengal  2023        4  \n",
       " 8564                west-bengal  2023        4  \n",
       " 8565                west-bengal  2023        4  \n",
       " 8566                west-bengal  2023        4  \n",
       " \n",
       " [8567 rows x 6 columns])"
      ]
     },
     "execution_count": 7,
     "metadata": {},
     "output_type": "execute_result"
    }
   ],
   "source": [
    "def top_pincode_dataframe():\n",
    "    path = 'C:/Users/User/Desktop/python/phonepe/pulse_data/data/top/transaction/country/india/state/'\n",
    "    list_of_top_pincode = []\n",
    "    for current_state in os.listdir(path):\n",
    "        current_path = path + current_state + \"/\"\n",
    "\n",
    "        for current_year in os.listdir(current_path):\n",
    "            current_path1 = current_path + current_year + \"/\"\n",
    "        \n",
    "            for file in os.listdir(current_path1):\n",
    "                current_file = current_path1 + file\n",
    "                file_data = open(current_file, \"r\")\n",
    "                jason_data = json.load(file_data)\n",
    "\n",
    "                for jd in jason_data['data']['pincodes']:\n",
    "                    dict_top_pincode = dict(\n",
    "                        Pincode = jd['entityName'],\n",
    "                        Transaction_count = jd['metric']['count'],\n",
    "                        Transaction_amount = jd['metric']['amount'],\n",
    "                        State = current_state,\n",
    "                        Year = current_year,\n",
    "                        Quarter = int(file.strip('.json'))\n",
    "                    )\n",
    "\n",
    "                    list_of_top_pincode.append(dict_top_pincode)\n",
    "\n",
    "    df_top_pincode = pd.DataFrame.from_dict(list_of_top_pincode,orient='columns')\n",
    "    return data_cleaning(df_top_pincode)\n",
    "\n",
    "top_pincode_dataframe()\n"
   ]
  },
  {
   "cell_type": "markdown",
   "metadata": {},
   "source": [
    "Creating DataGrame for Top Users"
   ]
  },
  {
   "cell_type": "code",
   "execution_count": 8,
   "metadata": {},
   "outputs": [
    {
     "data": {
      "text/plain": [
       "('No Missing Values Found',\n",
       "      Pincode  RegisteredUsers                      State  Year  Quarter\n",
       " 0     744103             1608  andaman-&-nicobar-islands  2018        1\n",
       " 1     744101             1108  andaman-&-nicobar-islands  2018        1\n",
       " 2     744105             1075  andaman-&-nicobar-islands  2018        1\n",
       " 3     744102             1006  andaman-&-nicobar-islands  2018        1\n",
       " 4     744104              272  andaman-&-nicobar-islands  2018        1\n",
       " ...      ...              ...                        ...   ...      ...\n",
       " 8563  700015           126663                west-bengal  2023        4\n",
       " 8564  742304           123320                west-bengal  2023        4\n",
       " 8565  721101           123088                west-bengal  2023        4\n",
       " 8566  700150           119283                west-bengal  2023        4\n",
       " 8567  700091           118578                west-bengal  2023        4\n",
       " \n",
       " [8568 rows x 5 columns])"
      ]
     },
     "execution_count": 8,
     "metadata": {},
     "output_type": "execute_result"
    }
   ],
   "source": [
    "def top_users_dataframe():\n",
    "    path = 'C:/Users/User/Desktop/python/phonepe/pulse_data/data/top/user/country/india/state/'\n",
    "    list_of_top_users = []\n",
    "    for current_state in os.listdir(path):\n",
    "        current_path = path + current_state + \"/\"\n",
    "\n",
    "        for current_year in os.listdir(current_path):\n",
    "            current_path1 = current_path + current_year + \"/\"\n",
    "        \n",
    "            for file in os.listdir(current_path1):\n",
    "                current_file = current_path1 + file\n",
    "                file_data = open(current_file, \"r\")\n",
    "                jason_data = json.load(file_data)\n",
    "\n",
    "                for jd in jason_data['data']['pincodes']:\n",
    "                    dict_top_users = dict(\n",
    "                        Pincode = jd['name'],\n",
    "                        RegisteredUsers = jd['registeredUsers'],\n",
    "                        State = current_state,\n",
    "                        Year = current_year,\n",
    "                        Quarter = int(file.strip('.json'))\n",
    "                    )\n",
    "\n",
    "                    list_of_top_users.append(dict_top_users)\n",
    "\n",
    "    df_top_users = pd.DataFrame.from_dict(list_of_top_users,orient='columns')\n",
    "    return data_cleaning(df_top_users)\n",
    "\n",
    "\n",
    "top_users_dataframe()"
   ]
  },
  {
   "cell_type": "code",
   "execution_count": 9,
   "metadata": {},
   "outputs": [],
   "source": [
    "df_aggr_trans = aggr_trans_dataframe()[1]\n",
    "df_aggr_user = aggr_user_dataframe()[1]\n",
    "df_map_trans = map_trans_dataframe()[1]\n",
    "df_map_user = map_user_dataframe()[1]\n",
    "df_top_pincode = top_pincode_dataframe()[1]\n",
    "df_top_users = top_users_dataframe()[1]"
   ]
  },
  {
   "cell_type": "markdown",
   "metadata": {},
   "source": [
    "Convert DataFrames Into CSV"
   ]
  },
  {
   "cell_type": "code",
   "execution_count": 6,
   "metadata": {},
   "outputs": [],
   "source": [
    "df_aggr_trans.to_csv('CSV/agg_trans.csv',index=False)\n",
    "df_aggr_user.to_csv('CSV/agg_user.csv',index=False)\n",
    "df_map_trans.to_csv('CSV/map_trans.csv',index=False)\n",
    "df_map_user.to_csv('CSV/map_user.csv',index=False)\n",
    "df_top_pincode.to_csv('CSV/top_trans.csv',index=False)\n",
    "df_top_users.to_csv('CSV/top_user.csv',index=False)\n"
   ]
  },
  {
   "cell_type": "markdown",
   "metadata": {},
   "source": [
    "Create Connection With MYSQL"
   ]
  },
  {
   "cell_type": "code",
   "execution_count": 10,
   "metadata": {},
   "outputs": [],
   "source": [
    "mydb = sql.connect(\n",
    "  host=\"localhost\",\n",
    "  user=\"root\",\n",
    "  password=\"root\"\n",
    ")\n",
    "mycursor = mydb.cursor()\n",
    "mycursor.execute(\"CREATE DATABASE phonepe_data\")\n"
   ]
  },
  {
   "cell_type": "code",
   "execution_count": 41,
   "metadata": {},
   "outputs": [],
   "source": [
    "mydb = sql.connect(host=\"localhost\",\n",
    "                    user=\"root\",\n",
    "                    password=\"root\",\n",
    "                    database= \"phonepe_data1\"\n",
    "                    )\n",
    "mycursor = mydb.cursor()\n"
   ]
  },
  {
   "cell_type": "code",
   "execution_count": 12,
   "metadata": {},
   "outputs": [
    {
     "data": {
      "text/plain": [
       "True"
      ]
     },
     "execution_count": 12,
     "metadata": {},
     "output_type": "execute_result"
    }
   ],
   "source": [
    "query1 = \"create table agg_trans (Transaction_type varchar(100), Transaction_count int, Transaction_amount double, State varchar(100), Year int, Quarter int)\"\n",
    "mycursor.execute(query1)\n",
    "\n",
    "for i,row in df_aggr_trans.iterrows():\n",
    "    sql = \"INSERT INTO agg_trans VALUES (%s,%s,%s,%s,%s,%s)\"\n",
    "    mycursor.execute(sql, tuple(row))\n",
    "    mydb.commit()\n"
   ]
  },
  {
   "cell_type": "code",
   "execution_count": 17,
   "metadata": {},
   "outputs": [],
   "source": [
    "query2 = \"create table agg_user (Brands varchar(100), User_Registered int, Percentage double, State varchar(100), Year int, Quarter int)\"\n",
    "mycursor.execute(query2)\n",
    "\n",
    "for i,row in df_aggr_user.iterrows():\n",
    "    sql = \"INSERT INTO agg_user VALUES (%s,%s,%s,%s,%s,%s)\"\n",
    "    mycursor.execute(sql, tuple(row))\n",
    "    mydb.commit()\n"
   ]
  },
  {
   "cell_type": "code",
   "execution_count": 22,
   "metadata": {},
   "outputs": [],
   "source": [
    "query3 = \"create table map_trans (District varchar(100), Count_transaction int, Amount double, State varchar(100), Year int, Quarter int)\"\n",
    "mycursor.execute(query3)\n",
    "\n",
    "for i,row in df_map_trans.iterrows():\n",
    "    sql = \"INSERT INTO map_trans VALUES (%s,%s,%s,%s,%s,%s)\"\n",
    "    mycursor.execute(sql, tuple(row))\n",
    "    mydb.commit()\n"
   ]
  },
  {
   "cell_type": "code",
   "execution_count": 23,
   "metadata": {},
   "outputs": [
    {
     "data": {
      "text/plain": [
       "True"
      ]
     },
     "execution_count": 23,
     "metadata": {},
     "output_type": "execute_result"
    }
   ],
   "source": [
    "query4 = \"create table map_user (District varchar(100), RegisteredUsers int, AppOpens int, State varchar(100), Year int, Quarter int)\"\n",
    "mycursor.execute(query4)\n",
    "\n",
    "for i,row in df_map_user.iterrows():\n",
    "    sql = \"INSERT INTO map_user VALUES (%s,%s,%s,%s,%s,%s)\"\n",
    "    mycursor.execute(sql, tuple(row))\n",
    "    mydb.commit()\n"
   ]
  },
  {
   "cell_type": "code",
   "execution_count": 27,
   "metadata": {},
   "outputs": [],
   "source": [
    "query5 = \"create table top_trans ( Pincode int, Transaction_count int, Transaction_amount double, State varchar(100), Year int, Quarter int)\"\n",
    "mycursor.execute(query5)\n",
    "\n",
    "for i,row in df_top_pincode.iterrows():\n",
    "    sql = \"INSERT INTO top_trans VALUES (%s,%s,%s,%s,%s,%s)\"\n",
    "    mycursor.execute(sql, tuple(row))\n",
    "    mydb.commit()\n"
   ]
  },
  {
   "cell_type": "code",
   "execution_count": 28,
   "metadata": {},
   "outputs": [],
   "source": [
    "query6 = \"create table top_user (Pincode int, RegisteredUsers int, State varchar(100), Year int, Quarter int)\"\n",
    "mycursor.execute(query6)\n",
    "\n",
    "for i,row in df_top_users.iterrows():\n",
    "    sql = \"INSERT INTO top_user VALUES (%s,%s,%s,%s,%s)\"\n",
    "    mycursor.execute(sql, tuple(row))\n",
    "    mydb.commit()"
   ]
  },
  {
   "cell_type": "markdown",
   "metadata": {},
   "source": [
    "Rename All States Acoordly"
   ]
  },
  {
   "cell_type": "code",
   "execution_count": 37,
   "metadata": {},
   "outputs": [
    {
     "name": "stdout",
     "output_type": "stream",
     "text": [
      "agg_trans\n",
      "agg_user\n",
      "map_trans\n",
      "map_user\n",
      "top_trans\n",
      "top_user\n"
     ]
    }
   ],
   "source": [
    "query = \"USE phonepe_data1;\"\n",
    "query_2 = \"show tables\"\n",
    "mycursor.execute(query)\n",
    "mycursor.execute(query_2)\n",
    "df = pd.DataFrame(mycursor.fetchall(),columns=['name'])\n",
    "table_list = df['name'].to_list()\n",
    "table_list.remove('corr_state')\n",
    "for x in table_list:\n",
    "    print(f\"{x}\")"
   ]
  },
  {
   "cell_type": "code",
   "execution_count": 34,
   "metadata": {},
   "outputs": [],
   "source": [
    "state_names = pd.read_csv('csv/Statenames.csv')"
   ]
  },
  {
   "cell_type": "code",
   "execution_count": 36,
   "metadata": {},
   "outputs": [],
   "source": [
    "query7 = \"create table corr_state (State varchar(100), Corr_State varchar(100))\"\n",
    "mycursor.execute(query7)\n",
    "\n",
    "for i,row in state_names.iterrows():\n",
    "    sql = \"INSERT INTO corr_state VALUES (%s,%s)\"\n",
    "    mycursor.execute(sql, tuple(row))\n",
    "    mydb.commit()"
   ]
  },
  {
   "cell_type": "code",
   "execution_count": 38,
   "metadata": {},
   "outputs": [],
   "source": [
    "query8 = \"SET SQL_SAFE_UPDATES = 0;\"\n",
    "mycursor.execute(query8)\n",
    "for table in table_list:\n",
    "    query10 = f\"ALTER TABLE {table} ADD c_state varchar(255);\"\n",
    "    query9 = f\"UPDATE {table} SET C_state = (SELECT state FROM corr_state WHERE corr_state.Corr_State = {table}.State);\"\n",
    "    mycursor.execute(query10)\n",
    "    mycursor.execute(query9)\n",
    "    mydb.commit()\n",
    "query11 = \"SET SQL_SAFE_UPDATES = 1;\"\n",
    "mycursor.execute(query11)\n",
    "mydb.commit()"
   ]
  },
  {
   "cell_type": "code",
   "execution_count": 43,
   "metadata": {},
   "outputs": [],
   "source": [
    "mydb.close()"
   ]
  }
 ],
 "metadata": {
  "kernelspec": {
   "display_name": "Python 3",
   "language": "python",
   "name": "python3"
  },
  "language_info": {
   "codemirror_mode": {
    "name": "ipython",
    "version": 3
   },
   "file_extension": ".py",
   "mimetype": "text/x-python",
   "name": "python",
   "nbconvert_exporter": "python",
   "pygments_lexer": "ipython3",
   "version": "3.12.1"
  }
 },
 "nbformat": 4,
 "nbformat_minor": 2
}
